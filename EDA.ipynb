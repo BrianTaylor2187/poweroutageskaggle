{
 "cells": [
  {
   "cell_type": "code",
   "execution_count": 270,
   "metadata": {},
   "outputs": [],
   "source": [
    "import pandas as pd\n",
    "import numpy as np\n",
    "import seaborn as sns\n",
    "import matplotlib.pyplot as plt\n",
    "%matplotlib inline\n",
    "from datetime import datetime as dt\n",
    "from nltk.tokenize import RegexpTokenizer"
   ]
  },
  {
   "cell_type": "code",
   "execution_count": 271,
   "metadata": {},
   "outputs": [],
   "source": [
    "from sklearn.model_selection import train_test_split\n",
    "from xgboost import XGBClassifier"
   ]
  },
  {
   "cell_type": "code",
   "execution_count": 272,
   "metadata": {},
   "outputs": [],
   "source": [
    "df = pd.read_csv('griddis.csv')"
   ]
  },
  {
   "cell_type": "markdown",
   "metadata": {},
   "source": [
    "Let's look at our data and consider what we can do to clean it up some."
   ]
  },
  {
   "cell_type": "code",
   "execution_count": 273,
   "metadata": {
    "scrolled": true
   },
   "outputs": [
    {
     "data": {
      "text/html": [
       "<div>\n",
       "<style scoped>\n",
       "    .dataframe tbody tr th:only-of-type {\n",
       "        vertical-align: middle;\n",
       "    }\n",
       "\n",
       "    .dataframe tbody tr th {\n",
       "        vertical-align: top;\n",
       "    }\n",
       "\n",
       "    .dataframe thead th {\n",
       "        text-align: right;\n",
       "    }\n",
       "</style>\n",
       "<table border=\"1\" class=\"dataframe\">\n",
       "  <thead>\n",
       "    <tr style=\"text-align: right;\">\n",
       "      <th></th>\n",
       "      <th>Event Description</th>\n",
       "      <th>Year</th>\n",
       "      <th>Date Event Began</th>\n",
       "      <th>Time Event Began</th>\n",
       "      <th>Date of Restoration</th>\n",
       "      <th>Time of Restoration</th>\n",
       "      <th>Respondent</th>\n",
       "      <th>Geographic Areas</th>\n",
       "      <th>NERC Region</th>\n",
       "      <th>Demand Loss (MW)</th>\n",
       "      <th>Number of Customers Affected</th>\n",
       "      <th>Tags</th>\n",
       "    </tr>\n",
       "  </thead>\n",
       "  <tbody>\n",
       "    <tr>\n",
       "      <th>0</th>\n",
       "      <td>Severe Weather - Thunderstorms</td>\n",
       "      <td>2014</td>\n",
       "      <td>6/30/2014</td>\n",
       "      <td>8:00 PM</td>\n",
       "      <td>7/2/2014</td>\n",
       "      <td>6:30 PM</td>\n",
       "      <td>Exelon Corporation/ComEd</td>\n",
       "      <td>Illinois</td>\n",
       "      <td>RFC</td>\n",
       "      <td>Unknown</td>\n",
       "      <td>420,000</td>\n",
       "      <td>severe weather, thunderstorm</td>\n",
       "    </tr>\n",
       "    <tr>\n",
       "      <th>1</th>\n",
       "      <td>Severe Weather - Thunderstorms</td>\n",
       "      <td>2014</td>\n",
       "      <td>6/30/2014</td>\n",
       "      <td>11:20 PM</td>\n",
       "      <td>7/1/2014</td>\n",
       "      <td>5:00 PM</td>\n",
       "      <td>Northern Indiana Public Service Company</td>\n",
       "      <td>North Central Indiana</td>\n",
       "      <td>RFC</td>\n",
       "      <td>Unknown</td>\n",
       "      <td>127,000</td>\n",
       "      <td>severe weather, thunderstorm</td>\n",
       "    </tr>\n",
       "    <tr>\n",
       "      <th>2</th>\n",
       "      <td>Severe Weather - Thunderstorms</td>\n",
       "      <td>2014</td>\n",
       "      <td>6/30/2014</td>\n",
       "      <td>5:55 PM</td>\n",
       "      <td>7/1/2014</td>\n",
       "      <td>2:53 AM</td>\n",
       "      <td>We Energies</td>\n",
       "      <td>Southeast  Wisconsin</td>\n",
       "      <td>MRO</td>\n",
       "      <td>424</td>\n",
       "      <td>120,000</td>\n",
       "      <td>severe weather, thunderstorm</td>\n",
       "    </tr>\n",
       "    <tr>\n",
       "      <th>3</th>\n",
       "      <td>Fuel Supply Emergency - Coal</td>\n",
       "      <td>2014</td>\n",
       "      <td>6/27/2014</td>\n",
       "      <td>1:21 PM</td>\n",
       "      <td>Unknown</td>\n",
       "      <td>Unknown</td>\n",
       "      <td>We Energies</td>\n",
       "      <td>Wisconsin</td>\n",
       "      <td>MRO</td>\n",
       "      <td>Unknown</td>\n",
       "      <td>Unknown</td>\n",
       "      <td>fuel supply emergency, coal</td>\n",
       "    </tr>\n",
       "    <tr>\n",
       "      <th>4</th>\n",
       "      <td>Physical Attack - Vandalism</td>\n",
       "      <td>2014</td>\n",
       "      <td>6/24/2014</td>\n",
       "      <td>2:54 PM</td>\n",
       "      <td>6/24/2014</td>\n",
       "      <td>2:55 PM</td>\n",
       "      <td>Tennessee Valley Authority</td>\n",
       "      <td>Nashville, Tennessee</td>\n",
       "      <td>SERC</td>\n",
       "      <td>Unknown</td>\n",
       "      <td>Unknown</td>\n",
       "      <td>vandalism, physical</td>\n",
       "    </tr>\n",
       "  </tbody>\n",
       "</table>\n",
       "</div>"
      ],
      "text/plain": [
       "                Event Description  Year Date Event Began Time Event Began  \\\n",
       "0  Severe Weather - Thunderstorms  2014        6/30/2014          8:00 PM   \n",
       "1  Severe Weather - Thunderstorms  2014        6/30/2014         11:20 PM   \n",
       "2  Severe Weather - Thunderstorms  2014        6/30/2014          5:55 PM   \n",
       "3    Fuel Supply Emergency - Coal  2014        6/27/2014          1:21 PM   \n",
       "4     Physical Attack - Vandalism  2014        6/24/2014          2:54 PM   \n",
       "\n",
       "  Date of Restoration Time of Restoration  \\\n",
       "0            7/2/2014             6:30 PM   \n",
       "1            7/1/2014             5:00 PM   \n",
       "2            7/1/2014             2:53 AM   \n",
       "3             Unknown             Unknown   \n",
       "4           6/24/2014             2:55 PM   \n",
       "\n",
       "                                Respondent       Geographic Areas NERC Region  \\\n",
       "0                 Exelon Corporation/ComEd               Illinois         RFC   \n",
       "1  Northern Indiana Public Service Company  North Central Indiana         RFC   \n",
       "2                              We Energies   Southeast  Wisconsin         MRO   \n",
       "3                              We Energies              Wisconsin         MRO   \n",
       "4               Tennessee Valley Authority   Nashville, Tennessee        SERC   \n",
       "\n",
       "  Demand Loss (MW) Number of Customers Affected                          Tags  \n",
       "0          Unknown                      420,000  severe weather, thunderstorm  \n",
       "1          Unknown                      127,000  severe weather, thunderstorm  \n",
       "2              424                      120,000  severe weather, thunderstorm  \n",
       "3          Unknown                      Unknown   fuel supply emergency, coal  \n",
       "4          Unknown                      Unknown           vandalism, physical  "
      ]
     },
     "execution_count": 273,
     "metadata": {},
     "output_type": "execute_result"
    }
   ],
   "source": [
    "df.head()"
   ]
  },
  {
   "cell_type": "markdown",
   "metadata": {},
   "source": [
    "There's quite a few issues here already, the Tags feature being the first to jump out. We'll need to sort these tags into features to look at them individually eventually. First let's look at all the missing or badly formatted data."
   ]
  },
  {
   "cell_type": "code",
   "execution_count": 274,
   "metadata": {},
   "outputs": [
    {
     "name": "stdout",
     "output_type": "stream",
     "text": [
      "<class 'pandas.core.frame.DataFrame'>\n",
      "RangeIndex: 1652 entries, 0 to 1651\n",
      "Data columns (total 12 columns):\n",
      "Event Description               1652 non-null object\n",
      "Year                            1652 non-null int64\n",
      "Date Event Began                1652 non-null object\n",
      "Time Event Began                1643 non-null object\n",
      "Date of Restoration             1638 non-null object\n",
      "Time of Restoration             1632 non-null object\n",
      "Respondent                      1652 non-null object\n",
      "Geographic Areas                1651 non-null object\n",
      "NERC Region                     1650 non-null object\n",
      "Demand Loss (MW)                1254 non-null object\n",
      "Number of Customers Affected    1438 non-null object\n",
      "Tags                            1651 non-null object\n",
      "dtypes: int64(1), object(11)\n",
      "memory usage: 155.0+ KB\n"
     ]
    }
   ],
   "source": [
    "df.info()"
   ]
  },
  {
   "cell_type": "markdown",
   "metadata": {},
   "source": [
    "Looks like Demand Loss and Number of Customers Affected might be problematic columns to analyse. First, let's look at the times and dates columns format and see which ones we can get into a sensible datetime format."
   ]
  },
  {
   "cell_type": "code",
   "execution_count": 289,
   "metadata": {},
   "outputs": [
    {
     "data": {
      "text/plain": [
       "1334    NaN\n",
       "1396    NaN\n",
       "1625    NaN\n",
       "1629    NaN\n",
       "1630    NaN\n",
       "1638    NaN\n",
       "1641    NaN\n",
       "1643    NaN\n",
       "1644    NaN\n",
       "1645    NaN\n",
       "Name: Time Event Began, dtype: object"
      ]
     },
     "execution_count": 289,
     "metadata": {},
     "output_type": "execute_result"
    }
   ],
   "source": [
    "df[pd.isnull(pd.to_datetime(df['Time Event Began'], 'coerce'))]['Time Event Began']"
   ]
  },
  {
   "cell_type": "markdown",
   "metadata": {},
   "source": [
    "There's not much we can do about the nans or Ongoing. However, the others we can probably fix. The '5:78 p.m.' we'll just change to '5:58 PM', as this is the most sense we can make of this time considering the issue was a voltage reduction. There's also an 'Evening' entry that we'll just drop, as there's only one of them and this time is too vague for us to make any sense of."
   ]
  },
  {
   "cell_type": "code",
   "execution_count": 288,
   "metadata": {},
   "outputs": [
    {
     "data": {
      "text/plain": [
       "3       NaN\n",
       "15      NaN\n",
       "25      NaN\n",
       "27      NaN\n",
       "36      NaN\n",
       "46      NaN\n",
       "86      NaN\n",
       "89      NaN\n",
       "102     NaN\n",
       "104     NaN\n",
       "254     NaN\n",
       "369     NaN\n",
       "986     NaN\n",
       "1099    NaN\n",
       "1196    NaN\n",
       "1226    NaN\n",
       "1334    NaN\n",
       "1396    NaN\n",
       "1398    NaN\n",
       "1454    NaN\n",
       "1590    NaN\n",
       "1593    NaN\n",
       "1601    NaN\n",
       "1617    NaN\n",
       "1623    NaN\n",
       "1625    NaN\n",
       "1629    NaN\n",
       "1630    NaN\n",
       "1632    NaN\n",
       "1633    NaN\n",
       "1635    NaN\n",
       "1638    NaN\n",
       "1639    NaN\n",
       "1641    NaN\n",
       "1643    NaN\n",
       "1644    NaN\n",
       "1645    NaN\n",
       "1648    NaN\n",
       "1650    NaN\n",
       "Name: Time of Restoration, dtype: object"
      ]
     },
     "execution_count": 288,
     "metadata": {},
     "output_type": "execute_result"
    }
   ],
   "source": [
    "df[pd.isnull(pd.to_datetime(df['Time of Restoration'], 'coerce'))]['Time of Restoration']"
   ]
  },
  {
   "cell_type": "code",
   "execution_count": 287,
   "metadata": {},
   "outputs": [],
   "source": [
    "df.replace('Unknown', np.nan, inplace=True)\n",
    "df.replace('Ongoing', np.nan, inplace=True)\n",
    "df.replace('Midnight', '12:00 AM', inplace=True)\n",
    "df.replace('12:00 noon', '12:00 PM', inplace=True)\n",
    "df.replace('12 noon', '12:00 PM', inplace= True)\n",
    "df.replace('3: 37 p.m.', '3:37 PM', inplace=True)\n",
    "df.replace('12 a.m.', '12:00 PM', inplace=True)\n",
    "df.replace('5:78 p.m.', '5:58 PM', inplace=True)\n",
    "df.replace('9: 52 a.m.', '9:52 AM', inplace=True)\n",
    "df = df[df['Time Event Began'] != 'Evening']"
   ]
  },
  {
   "cell_type": "code",
   "execution_count": 304,
   "metadata": {},
   "outputs": [],
   "source": [
    "df[\"Time Event Began\"] = pd.to_datetime(df[\"Time Event Began\"], infer_datetime_format=True, errors='coerce').dt.time\n",
    "df[\"Time of Restoration\"] = pd.to_datetime(df[\"Time of Restoration\"], infer_datetime_format=True, errors='coerce').dt.time"
   ]
  },
  {
   "cell_type": "markdown",
   "metadata": {},
   "source": [
    "Next, let's look at the Tags column"
   ]
  },
  {
   "cell_type": "code",
   "execution_count": 305,
   "metadata": {},
   "outputs": [
    {
     "data": {
      "text/html": [
       "<div>\n",
       "<style scoped>\n",
       "    .dataframe tbody tr th:only-of-type {\n",
       "        vertical-align: middle;\n",
       "    }\n",
       "\n",
       "    .dataframe tbody tr th {\n",
       "        vertical-align: top;\n",
       "    }\n",
       "\n",
       "    .dataframe thead th {\n",
       "        text-align: right;\n",
       "    }\n",
       "</style>\n",
       "<table border=\"1\" class=\"dataframe\">\n",
       "  <thead>\n",
       "    <tr style=\"text-align: right;\">\n",
       "      <th></th>\n",
       "      <th>Event Description</th>\n",
       "      <th>Year</th>\n",
       "      <th>Date Event Began</th>\n",
       "      <th>Time Event Began</th>\n",
       "      <th>Date of Restoration</th>\n",
       "      <th>Time of Restoration</th>\n",
       "      <th>Respondent</th>\n",
       "      <th>Geographic Areas</th>\n",
       "      <th>NERC Region</th>\n",
       "      <th>Demand Loss (MW)</th>\n",
       "      <th>Number of Customers Affected</th>\n",
       "      <th>Tags</th>\n",
       "    </tr>\n",
       "  </thead>\n",
       "  <tbody>\n",
       "    <tr>\n",
       "      <th>1531</th>\n",
       "      <td>Wild Fire _ Transmission Equipment</td>\n",
       "      <td>2003</td>\n",
       "      <td>12/1/2003</td>\n",
       "      <td>NaT</td>\n",
       "      <td>12/1/2003</td>\n",
       "      <td>NaT</td>\n",
       "      <td>REMVEC</td>\n",
       "      <td>Cape Cod and part of SE Massachusetts</td>\n",
       "      <td>NPCC</td>\n",
       "      <td>630</td>\n",
       "      <td>300,000</td>\n",
       "      <td>NaN</td>\n",
       "    </tr>\n",
       "  </tbody>\n",
       "</table>\n",
       "</div>"
      ],
      "text/plain": [
       "                       Event Description  Year Date Event Began  \\\n",
       "1531  Wild Fire _ Transmission Equipment  2003        12/1/2003   \n",
       "\n",
       "     Time Event Began Date of Restoration Time of Restoration Respondent  \\\n",
       "1531              NaT           12/1/2003                 NaT     REMVEC   \n",
       "\n",
       "                           Geographic Areas NERC Region Demand Loss (MW)  \\\n",
       "1531  Cape Cod and part of SE Massachusetts        NPCC              630   \n",
       "\n",
       "     Number of Customers Affected Tags  \n",
       "1531                      300,000  NaN  "
      ]
     },
     "execution_count": 305,
     "metadata": {},
     "output_type": "execute_result"
    }
   ],
   "source": [
    "df[pd.isnull(df['Tags'])]"
   ]
  },
  {
   "cell_type": "code",
   "execution_count": 307,
   "metadata": {
    "scrolled": false
   },
   "outputs": [
    {
     "name": "stdout",
     "output_type": "stream",
     "text": [
      "{'physical', 'fog', 'unknown', 'hail', 'energy deficiency alert', 'hurricane', 'load shedding', 'coal', 'breaker trip', 'transmission interruption', 'distribution interruption', 'tropical storm', 'natural gas', 'winter storm', 'heat', 'earthquake', 'uncontrolled loss', 'wild fire', 'tornado', 'islanding', 'thunderstorm', 'cyber', 'cold', 'storm', 'voltage reduction', 'rain', 'flooding', 'generator trip', 'low flying helicopter', 'equipment failure', 'wind', 'hydro', 'nan', 'dust', 'public appeal', 'severe weather', 'fuel supply emergency', 'petroleum', 'vandalism'}\n"
     ]
    }
   ],
   "source": [
    "labels = []\n",
    "tokenizer = RegexpTokenizer(r'\\w+[\\s\\w]+')\n",
    "tokenized = [tokenizer.tokenize(str(i)) for i in df['Tags']]\n",
    "for j in tokenized:\n",
    "    for k in j:\n",
    "        labels.append(k)\n",
    "print(set(labels))"
   ]
  },
  {
   "cell_type": "markdown",
   "metadata": {},
   "source": [
    "Looks like someone missed a tag here, let's add it for them:"
   ]
  },
  {
   "cell_type": "code",
   "execution_count": 312,
   "metadata": {},
   "outputs": [],
   "source": [
    "df.loc[pd.isnull(df['Tags']),'Tags'] = 'wild fire'"
   ]
  },
  {
   "cell_type": "code",
   "execution_count": 317,
   "metadata": {},
   "outputs": [
    {
     "data": {
      "text/plain": [
       "Event Description               346\n",
       "Year                            346\n",
       "Date Event Began                346\n",
       "Time Event Began                  0\n",
       "Date of Restoration             340\n",
       "Time of Restoration               0\n",
       "Respondent                      346\n",
       "Geographic Areas                343\n",
       "NERC Region                     346\n",
       "Demand Loss (MW)                148\n",
       "Number of Customers Affected    159\n",
       "Tags                            346\n",
       "dtype: int64"
      ]
     },
     "execution_count": 317,
     "metadata": {},
     "output_type": "execute_result"
    }
   ],
   "source": [
    "df[df['Tags'].str.contains('vandalism')].count()"
   ]
  }
 ],
 "metadata": {
  "kernelspec": {
   "display_name": "Python 3",
   "language": "python",
   "name": "python3"
  },
  "language_info": {
   "codemirror_mode": {
    "name": "ipython",
    "version": 3
   },
   "file_extension": ".py",
   "mimetype": "text/x-python",
   "name": "python",
   "nbconvert_exporter": "python",
   "pygments_lexer": "ipython3",
   "version": "3.6.7"
  }
 },
 "nbformat": 4,
 "nbformat_minor": 2
}
